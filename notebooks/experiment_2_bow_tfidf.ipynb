{
  "cells": [
    {
      "cell_type": "code",
      "execution_count": 10,
      "metadata": {},
      "outputs": [
        {
          "name": "stdout",
          "output_type": "stream",
          "text": [
            "Requirement already satisfied: awscli in c:\\users\\soura\\anaconda3\\lib\\site-packages (1.40.20)\n",
            "Collecting botocore==1.38.21 (from awscli)\n",
            "  Using cached botocore-1.38.21-py3-none-any.whl.metadata (5.7 kB)\n",
            "Requirement already satisfied: docutils<=0.19,>=0.18.1 in c:\\users\\soura\\anaconda3\\lib\\site-packages (from awscli) (0.18.1)\n",
            "Collecting s3transfer<0.13.0,>=0.12.0 (from awscli)\n",
            "  Using cached s3transfer-0.12.0-py3-none-any.whl.metadata (1.7 kB)\n",
            "Requirement already satisfied: PyYAML<6.1,>=3.10 in c:\\users\\soura\\anaconda3\\lib\\site-packages (from awscli) (6.0.1)\n",
            "Requirement already satisfied: colorama<0.4.7,>=0.2.5 in c:\\users\\soura\\anaconda3\\lib\\site-packages (from awscli) (0.4.6)\n",
            "Requirement already satisfied: rsa<4.8,>=3.1.2 in c:\\users\\soura\\anaconda3\\lib\\site-packages (from awscli) (4.7.2)\n",
            "Requirement already satisfied: jmespath<2.0.0,>=0.7.1 in c:\\users\\soura\\anaconda3\\lib\\site-packages (from botocore==1.38.21->awscli) (1.0.1)\n",
            "Requirement already satisfied: python-dateutil<3.0.0,>=2.1 in c:\\users\\soura\\appdata\\roaming\\python\\python312\\site-packages (from botocore==1.38.21->awscli) (2.9.0.post0)\n",
            "Requirement already satisfied: urllib3!=2.2.0,<3,>=1.25.4 in c:\\users\\soura\\anaconda3\\lib\\site-packages (from botocore==1.38.21->awscli) (2.2.3)\n",
            "Requirement already satisfied: pyasn1>=0.1.3 in c:\\users\\soura\\anaconda3\\lib\\site-packages (from rsa<4.8,>=3.1.2->awscli) (0.4.8)\n",
            "Requirement already satisfied: six>=1.5 in c:\\users\\soura\\appdata\\roaming\\python\\python312\\site-packages (from python-dateutil<3.0.0,>=2.1->botocore==1.38.21->awscli) (1.16.0)\n",
            "Using cached botocore-1.38.21-py3-none-any.whl (13.6 MB)\n",
            "Using cached s3transfer-0.12.0-py3-none-any.whl (84 kB)\n",
            "Installing collected packages: botocore, s3transfer\n",
            "  Attempting uninstall: botocore\n",
            "    Found existing installation: botocore 1.37.38\n",
            "    Uninstalling botocore-1.37.38:\n",
            "      Successfully uninstalled botocore-1.37.38\n",
            "  Attempting uninstall: s3transfer\n",
            "    Found existing installation: s3transfer 0.11.5\n",
            "    Uninstalling s3transfer-0.11.5:\n",
            "      Successfully uninstalled s3transfer-0.11.5\n",
            "Successfully installed botocore-1.38.21 s3transfer-0.12.0\n"
          ]
        },
        {
          "name": "stderr",
          "output_type": "stream",
          "text": [
            "ERROR: pip's dependency resolver does not currently take into account all the packages that are installed. This behaviour is the source of the following dependency conflicts.\n",
            "aiobotocore 2.12.3 requires botocore<1.34.70,>=1.34.41, but you have botocore 1.38.21 which is incompatible.\n",
            "boto3 1.37.17 requires botocore<1.38.0,>=1.37.17, but you have botocore 1.38.21 which is incompatible.\n",
            "boto3 1.37.17 requires s3transfer<0.12.0,>=0.11.0, but you have s3transfer 0.12.0 which is incompatible.\n",
            "\n",
            "[notice] A new release of pip is available: 25.0.1 -> 25.1.1\n",
            "[notice] To update, run: python.exe -m pip install --upgrade pip\n"
          ]
        }
      ],
      "source": [
        "!pip install awscli --upgrade"
      ]
    },
    {
      "cell_type": "code",
      "execution_count": 6,
      "metadata": {},
      "outputs": [
        {
          "name": "stdout",
          "output_type": "stream",
          "text": [
            "Requirement already satisfied: boto3 in c:\\users\\soura\\anaconda3\\lib\\site-packages (1.37.17)\n",
            "Collecting botocore<1.38.0,>=1.37.17 (from boto3)\n",
            "  Using cached botocore-1.37.38-py3-none-any.whl.metadata (5.7 kB)\n",
            "Requirement already satisfied: jmespath<2.0.0,>=0.7.1 in c:\\users\\soura\\anaconda3\\lib\\site-packages (from boto3) (1.0.1)\n",
            "Collecting s3transfer<0.12.0,>=0.11.0 (from boto3)\n",
            "  Using cached s3transfer-0.11.5-py3-none-any.whl.metadata (1.7 kB)\n",
            "Requirement already satisfied: python-dateutil<3.0.0,>=2.1 in c:\\users\\soura\\appdata\\roaming\\python\\python312\\site-packages (from botocore<1.38.0,>=1.37.17->boto3) (2.9.0.post0)\n",
            "Requirement already satisfied: urllib3!=2.2.0,<3,>=1.25.4 in c:\\users\\soura\\anaconda3\\lib\\site-packages (from botocore<1.38.0,>=1.37.17->boto3) (2.2.3)\n",
            "Requirement already satisfied: six>=1.5 in c:\\users\\soura\\appdata\\roaming\\python\\python312\\site-packages (from python-dateutil<3.0.0,>=2.1->botocore<1.38.0,>=1.37.17->boto3) (1.16.0)\n",
            "Downloading botocore-1.37.38-py3-none-any.whl (13.5 MB)\n",
            "   ---------------------------------------- 0.0/13.5 MB ? eta -:--:--\n",
            "   --- ------------------------------------ 1.0/13.5 MB 5.6 MB/s eta 0:00:03\n",
            "   ----- ---------------------------------- 1.8/13.5 MB 5.0 MB/s eta 0:00:03\n",
            "   ------- -------------------------------- 2.6/13.5 MB 4.6 MB/s eta 0:00:03\n",
            "   ---------- ----------------------------- 3.4/13.5 MB 4.4 MB/s eta 0:00:03\n",
            "   ------------- -------------------------- 4.5/13.5 MB 4.3 MB/s eta 0:00:03\n",
            "   --------------- ------------------------ 5.2/13.5 MB 4.2 MB/s eta 0:00:02\n",
            "   ----------------- ---------------------- 6.0/13.5 MB 4.1 MB/s eta 0:00:02\n",
            "   -------------------- ------------------- 6.8/13.5 MB 4.1 MB/s eta 0:00:02\n",
            "   ---------------------- ----------------- 7.6/13.5 MB 4.1 MB/s eta 0:00:02\n",
            "   ------------------------ --------------- 8.4/13.5 MB 4.1 MB/s eta 0:00:02\n",
            "   --------------------------- ------------ 9.2/13.5 MB 4.0 MB/s eta 0:00:02\n",
            "   ------------------------------ --------- 10.2/13.5 MB 4.0 MB/s eta 0:00:01\n",
            "   -------------------------------- ------- 11.0/13.5 MB 4.0 MB/s eta 0:00:01\n",
            "   ---------------------------------- ----- 11.8/13.5 MB 4.0 MB/s eta 0:00:01\n",
            "   ------------------------------------- -- 12.6/13.5 MB 4.0 MB/s eta 0:00:01\n",
            "   ---------------------------------------  13.4/13.5 MB 4.0 MB/s eta 0:00:01\n",
            "   ---------------------------------------- 13.5/13.5 MB 4.0 MB/s eta 0:00:00\n",
            "Downloading s3transfer-0.11.5-py3-none-any.whl (84 kB)\n",
            "Installing collected packages: botocore, s3transfer\n",
            "  Attempting uninstall: botocore\n",
            "    Found existing installation: botocore 1.38.21\n",
            "    Uninstalling botocore-1.38.21:\n",
            "      Successfully uninstalled botocore-1.38.21\n",
            "  Attempting uninstall: s3transfer\n",
            "    Found existing installation: s3transfer 0.12.0\n",
            "    Uninstalling s3transfer-0.12.0:\n",
            "      Successfully uninstalled s3transfer-0.12.0\n",
            "Successfully installed botocore-1.37.38 s3transfer-0.11.5\n"
          ]
        },
        {
          "name": "stderr",
          "output_type": "stream",
          "text": [
            "ERROR: pip's dependency resolver does not currently take into account all the packages that are installed. This behaviour is the source of the following dependency conflicts.\n",
            "aiobotocore 2.12.3 requires botocore<1.34.70,>=1.34.41, but you have botocore 1.37.38 which is incompatible.\n",
            "awscli 1.40.20 requires botocore==1.38.21, but you have botocore 1.37.38 which is incompatible.\n",
            "awscli 1.40.20 requires s3transfer<0.13.0,>=0.12.0, but you have s3transfer 0.11.5 which is incompatible.\n",
            "\n",
            "[notice] A new release of pip is available: 25.0.1 -> 25.1.1\n",
            "[notice] To update, run: python.exe -m pip install --upgrade pip\n"
          ]
        }
      ],
      "source": [
        "!pip install boto3"
      ]
    },
    {
      "cell_type": "code",
      "execution_count": null,
      "metadata": {},
      "outputs": [
        {
          "name": "stdout",
          "output_type": "stream",
          "text": [
            "2025-05-22 11:27:51 yt-mlflowbucket\n"
          ]
        },
        {
          "name": "stderr",
          "output_type": "stream",
          "text": [
            "File association not found for extension .py\n"
          ]
        }
      ],
      "source": [
        "!aws configure\n"
      ]
    },
    {
      "cell_type": "code",
      "execution_count": 4,
      "metadata": {
        "id": "DmfxCCFNlO3Q"
      },
      "outputs": [],
      "source": [
        "import mlflow\n",
        "# Step 2: Set up the MLflow tracking server\n",
        "mlflow.set_tracking_uri(\"http://ec2-13-233-74-14.ap-south-1.compute.amazonaws.com:5000/\")"
      ]
    },
    {
      "cell_type": "code",
      "execution_count": 16,
      "metadata": {
        "colab": {
          "base_uri": "https://localhost:8080/"
        },
        "id": "Zan6jEqglYPS",
        "outputId": "e22e7b2e-a466-462e-dcda-ade21ded9aca"
      },
      "outputs": [
        {
          "name": "stderr",
          "output_type": "stream",
          "text": [
            "2025/05/22 12:37:14 INFO mlflow.tracking.fluent: Experiment with name 'Exp 2 - BoW vs TfIdf' does not exist. Creating a new experiment.\n"
          ]
        },
        {
          "data": {
            "text/plain": [
              "<Experiment: artifact_location='s3://yt-mlflowbucket/812669549667746837', creation_time=1747897634252, experiment_id='812669549667746837', last_update_time=1747897634252, lifecycle_stage='active', name='Exp 2 - BoW vs TfIdf', tags={}>"
            ]
          },
          "execution_count": 16,
          "metadata": {},
          "output_type": "execute_result"
        }
      ],
      "source": [
        "# Set or create an experiment\n",
        "mlflow.set_experiment(\"Exp 2 - BoW vs TfIdf\")"
      ]
    },
    {
      "cell_type": "code",
      "execution_count": 17,
      "metadata": {
        "id": "4B6s4MsqlveI"
      },
      "outputs": [],
      "source": [
        "from sklearn.feature_extraction.text import CountVectorizer, TfidfVectorizer\n",
        "from sklearn.ensemble import RandomForestClassifier\n",
        "from sklearn.model_selection import train_test_split\n",
        "from sklearn.metrics import accuracy_score, classification_report, confusion_matrix\n",
        "import mlflow.sklearn\n",
        "import matplotlib.pyplot as plt\n",
        "import seaborn as sns\n",
        "import pandas as pd\n",
        "import os"
      ]
    },
    {
      "cell_type": "code",
      "execution_count": 18,
      "metadata": {
        "colab": {
          "base_uri": "https://localhost:8080/"
        },
        "id": "BvkWQ-SYl0rY",
        "outputId": "12004151-755d-410c-f82a-6603950c8be3"
      },
      "outputs": [
        {
          "data": {
            "text/plain": [
              "(36662, 2)"
            ]
          },
          "execution_count": 18,
          "metadata": {},
          "output_type": "execute_result"
        }
      ],
      "source": [
        "df = pd.read_csv('reddit_preprocessing.csv').dropna(subset=['clean_comment'])\n",
        "df.shape"
      ]
    },
    {
      "cell_type": "code",
      "execution_count": 19,
      "metadata": {
        "colab": {
          "base_uri": "https://localhost:8080/"
        },
        "id": "RejOAvqgkwM0",
        "outputId": "f0a2ac34-b2a4-4da3-8511-36d4afe72c3c"
      },
      "outputs": [
        {
          "name": "stderr",
          "output_type": "stream",
          "text": [
            "2025/05/22 12:37:58 WARNING mlflow.models.model: Model logged without a signature and input example. Please set `input_example` parameter when logging the model to auto infer the model signature.\n"
          ]
        },
        {
          "name": "stdout",
          "output_type": "stream",
          "text": [
            "🏃 View run BoW_(1, 1)_RandomForest at: http://ec2-13-233-74-14.ap-south-1.compute.amazonaws.com:5000/#/experiments/812669549667746837/runs/daa69ecb8d144da7a543809b38550629\n",
            "🧪 View experiment at: http://ec2-13-233-74-14.ap-south-1.compute.amazonaws.com:5000/#/experiments/812669549667746837\n"
          ]
        },
        {
          "name": "stderr",
          "output_type": "stream",
          "text": [
            "2025/05/22 12:38:17 WARNING mlflow.models.model: Model logged without a signature and input example. Please set `input_example` parameter when logging the model to auto infer the model signature.\n"
          ]
        },
        {
          "name": "stdout",
          "output_type": "stream",
          "text": [
            "🏃 View run TF-IDF_(1, 1)_RandomForest at: http://ec2-13-233-74-14.ap-south-1.compute.amazonaws.com:5000/#/experiments/812669549667746837/runs/521807ea57124c9e8437fc1c3779ec9f\n",
            "🧪 View experiment at: http://ec2-13-233-74-14.ap-south-1.compute.amazonaws.com:5000/#/experiments/812669549667746837\n"
          ]
        },
        {
          "name": "stderr",
          "output_type": "stream",
          "text": [
            "2025/05/22 12:38:37 WARNING mlflow.models.model: Model logged without a signature and input example. Please set `input_example` parameter when logging the model to auto infer the model signature.\n"
          ]
        },
        {
          "name": "stdout",
          "output_type": "stream",
          "text": [
            "🏃 View run BoW_(1, 2)_RandomForest at: http://ec2-13-233-74-14.ap-south-1.compute.amazonaws.com:5000/#/experiments/812669549667746837/runs/e9af9befa57a4ca9aedf51b317f29efe\n",
            "🧪 View experiment at: http://ec2-13-233-74-14.ap-south-1.compute.amazonaws.com:5000/#/experiments/812669549667746837\n"
          ]
        },
        {
          "name": "stderr",
          "output_type": "stream",
          "text": [
            "2025/05/22 12:38:58 WARNING mlflow.models.model: Model logged without a signature and input example. Please set `input_example` parameter when logging the model to auto infer the model signature.\n"
          ]
        },
        {
          "name": "stdout",
          "output_type": "stream",
          "text": [
            "🏃 View run TF-IDF_(1, 2)_RandomForest at: http://ec2-13-233-74-14.ap-south-1.compute.amazonaws.com:5000/#/experiments/812669549667746837/runs/06f164283ebb466da7b31615a36678f7\n",
            "🧪 View experiment at: http://ec2-13-233-74-14.ap-south-1.compute.amazonaws.com:5000/#/experiments/812669549667746837\n"
          ]
        },
        {
          "name": "stderr",
          "output_type": "stream",
          "text": [
            "2025/05/22 12:39:20 WARNING mlflow.models.model: Model logged without a signature and input example. Please set `input_example` parameter when logging the model to auto infer the model signature.\n"
          ]
        },
        {
          "name": "stdout",
          "output_type": "stream",
          "text": [
            "🏃 View run BoW_(1, 3)_RandomForest at: http://ec2-13-233-74-14.ap-south-1.compute.amazonaws.com:5000/#/experiments/812669549667746837/runs/3ce81a6fffa640f29236a2d50ed76eb2\n",
            "🧪 View experiment at: http://ec2-13-233-74-14.ap-south-1.compute.amazonaws.com:5000/#/experiments/812669549667746837\n"
          ]
        },
        {
          "name": "stderr",
          "output_type": "stream",
          "text": [
            "2025/05/22 12:39:43 WARNING mlflow.models.model: Model logged without a signature and input example. Please set `input_example` parameter when logging the model to auto infer the model signature.\n"
          ]
        },
        {
          "name": "stdout",
          "output_type": "stream",
          "text": [
            "🏃 View run TF-IDF_(1, 3)_RandomForest at: http://ec2-13-233-74-14.ap-south-1.compute.amazonaws.com:5000/#/experiments/812669549667746837/runs/ff6f8b46aa254fad804055e99f366f63\n",
            "🧪 View experiment at: http://ec2-13-233-74-14.ap-south-1.compute.amazonaws.com:5000/#/experiments/812669549667746837\n"
          ]
        }
      ],
      "source": [
        "\n",
        "# Step 1: Function to run the experiment\n",
        "def run_experiment(vectorizer_type, ngram_range, vectorizer_max_features, vectorizer_name):\n",
        "    # Step 2: Vectorization\n",
        "    if vectorizer_type == \"BoW\":\n",
        "        vectorizer = CountVectorizer(ngram_range=ngram_range, max_features=vectorizer_max_features)\n",
        "    else:\n",
        "        vectorizer = TfidfVectorizer(ngram_range=ngram_range, max_features=vectorizer_max_features)\n",
        "\n",
        "    X_train, X_test, y_train, y_test = train_test_split(df['clean_comment'], df['category'], test_size=0.2, random_state=42, stratify=df['category'])\n",
        "\n",
        "    X_train = vectorizer.fit_transform(X_train)\n",
        "    X_test = vectorizer.transform(X_test)\n",
        "\n",
        "    # Step 4: Define and train a Random Forest model\n",
        "    with mlflow.start_run() as run:\n",
        "        # Set tags for the experiment and run\n",
        "        mlflow.set_tag(\"mlflow.runName\", f\"{vectorizer_name}_{ngram_range}_RandomForest\")\n",
        "        mlflow.set_tag(\"experiment_type\", \"feature_engineering\")\n",
        "        mlflow.set_tag(\"model_type\", \"RandomForestClassifier\")\n",
        "\n",
        "        # Add a description\n",
        "        mlflow.set_tag(\"description\", f\"RandomForest with {vectorizer_name}, ngram_range={ngram_range}, max_features={vectorizer_max_features}\")\n",
        "\n",
        "        # Log vectorizer parameters\n",
        "        mlflow.log_param(\"vectorizer_type\", vectorizer_type)\n",
        "        mlflow.log_param(\"ngram_range\", ngram_range)\n",
        "        mlflow.log_param(\"vectorizer_max_features\", vectorizer_max_features)\n",
        "\n",
        "        # Log Random Forest parameters\n",
        "        n_estimators = 200\n",
        "        max_depth = 15\n",
        "\n",
        "        mlflow.log_param(\"n_estimators\", n_estimators)\n",
        "        mlflow.log_param(\"max_depth\", max_depth)\n",
        "\n",
        "        # Initialize and train the model\n",
        "        model = RandomForestClassifier(n_estimators=n_estimators, max_depth=max_depth, random_state=42)\n",
        "        model.fit(X_train, y_train)\n",
        "\n",
        "        # Step 5: Make predictions and log metrics\n",
        "        y_pred = model.predict(X_test)\n",
        "\n",
        "        # Log accuracy\n",
        "        accuracy = accuracy_score(y_test, y_pred)\n",
        "        mlflow.log_metric(\"accuracy\", accuracy)\n",
        "\n",
        "        # Log classification report\n",
        "        classification_rep = classification_report(y_test, y_pred, output_dict=True)\n",
        "        for label, metrics in classification_rep.items():\n",
        "            if isinstance(metrics, dict):\n",
        "                for metric, value in metrics.items():\n",
        "                    mlflow.log_metric(f\"{label}_{metric}\", value)\n",
        "\n",
        "        # Log confusion matrix\n",
        "        conf_matrix = confusion_matrix(y_test, y_pred)\n",
        "        plt.figure(figsize=(8, 6))\n",
        "        sns.heatmap(conf_matrix, annot=True, fmt=\"d\", cmap=\"Blues\")\n",
        "        plt.xlabel(\"Predicted\")\n",
        "        plt.ylabel(\"Actual\")\n",
        "        plt.title(f\"Confusion Matrix: {vectorizer_name}, {ngram_range}\")\n",
        "        plt.savefig(\"confusion_matrix.png\")\n",
        "        mlflow.log_artifact(\"confusion_matrix.png\")\n",
        "        plt.close()\n",
        "\n",
        "        # Log the model\n",
        "        mlflow.sklearn.log_model(model, f\"random_forest_model_{vectorizer_name}_{ngram_range}\")\n",
        "\n",
        "# Step 6: Run experiments for BoW and TF-IDF with different n-grams\n",
        "ngram_ranges = [(1, 1), (1, 2), (1, 3)]  # unigrams, bigrams, trigrams\n",
        "max_features = 5000  # Example max feature size\n",
        "\n",
        "for ngram_range in ngram_ranges:\n",
        "    # BoW Experiments\n",
        "    run_experiment(\"BoW\", ngram_range, max_features, vectorizer_name=\"BoW\")\n",
        "\n",
        "    # TF-IDF Experiments\n",
        "    run_experiment(\"TF-IDF\", ngram_range, max_features, vectorizer_name=\"TF-IDF\")\n"
      ]
    },
    {
      "cell_type": "code",
      "execution_count": null,
      "metadata": {
        "id": "pTtQw8F1lgBB"
      },
      "outputs": [],
      "source": []
    }
  ],
  "metadata": {
    "colab": {
      "provenance": []
    },
    "kernelspec": {
      "display_name": "base",
      "language": "python",
      "name": "python3"
    },
    "language_info": {
      "codemirror_mode": {
        "name": "ipython",
        "version": 3
      },
      "file_extension": ".py",
      "mimetype": "text/x-python",
      "name": "python",
      "nbconvert_exporter": "python",
      "pygments_lexer": "ipython3",
      "version": "3.12.7"
    }
  },
  "nbformat": 4,
  "nbformat_minor": 0
}
